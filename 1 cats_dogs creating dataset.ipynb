{
 "cells": [
  {
   "cell_type": "code",
   "execution_count": 75,
   "metadata": {},
   "outputs": [
    {
     "name": "stdout",
     "output_type": "stream",
     "text": [
      "['Cat', 'Dog', 'new']\n",
      "[0, 1, 2]\n",
      "{'Cat': 0, 'Dog': 1, 'new': 2}\n"
     ]
    }
   ],
   "source": [
    "import cv2,os\n",
    "\n",
    "\n",
    "data_path=r'C:\\DLNN\\Day5\\PetImages'\n",
    "categories=os.listdir(data_path)\n",
    "labels=[i for i in range(len(categories))]\n",
    "\n",
    "label_dict={} #empty dictionary\n",
    "\n",
    "for i in range(len(categories)):\n",
    "    label_dict[categories[i]]=labels[i]\n",
    "\n",
    "print(categories)\n",
    "print(labels)\n",
    "print(label_dict)"
   ]
  },
  {
   "cell_type": "code",
   "execution_count": 76,
   "metadata": {},
   "outputs": [
    {
     "name": "stdout",
     "output_type": "stream",
     "text": [
      "C:\\DLNN\\Day5\\PetImages\\Cat\\cat.0.jpg\n",
      "C:\\DLNN\\Day5\\PetImages\\Cat\\cat.1.jpg\n",
      "C:\\DLNN\\Day5\\PetImages\\Cat\\cat.10.jpg\n",
      "C:\\DLNN\\Day5\\PetImages\\Cat\\cat.100.jpg\n",
      "C:\\DLNN\\Day5\\PetImages\\Cat\\cat.1000.jpg\n",
      "C:\\DLNN\\Day5\\PetImages\\Cat\\cat.10000.jpg\n",
      "C:\\DLNN\\Day5\\PetImages\\Cat\\cat.10001.jpg\n",
      "C:\\DLNN\\Day5\\PetImages\\Cat\\cat.10002.jpg\n",
      "C:\\DLNN\\Day5\\PetImages\\Cat\\cat.10003.jpg\n",
      "C:\\DLNN\\Day5\\PetImages\\Cat\\cat.10004.jpg\n",
      "C:\\DLNN\\Day5\\PetImages\\Cat\\cat.10005.jpg\n",
      "C:\\DLNN\\Day5\\PetImages\\Cat\\cat.10006.jpg\n",
      "C:\\DLNN\\Day5\\PetImages\\Cat\\cat.10007.jpg\n",
      "C:\\DLNN\\Day5\\PetImages\\Cat\\cat.10008.jpg\n",
      "C:\\DLNN\\Day5\\PetImages\\Cat\\cat.10009.jpg\n",
      "C:\\DLNN\\Day5\\PetImages\\Cat\\cat.1001.jpg\n",
      "C:\\DLNN\\Day5\\PetImages\\Cat\\cat.10010.jpg\n",
      "C:\\DLNN\\Day5\\PetImages\\Cat\\cat.10011.jpg\n",
      "C:\\DLNN\\Day5\\PetImages\\Cat\\cat.10012.jpg\n",
      "C:\\DLNN\\Day5\\PetImages\\Cat\\cat.10013.jpg\n",
      "C:\\DLNN\\Day5\\PetImages\\Cat\\cat.10014.jpg\n",
      "C:\\DLNN\\Day5\\PetImages\\Cat\\cat.10015.jpg\n",
      "C:\\DLNN\\Day5\\PetImages\\Cat\\cat.10016.jpg\n",
      "C:\\DLNN\\Day5\\PetImages\\Cat\\cat.10017.jpg\n",
      "C:\\DLNN\\Day5\\PetImages\\Cat\\cat.10018.jpg\n",
      "C:\\DLNN\\Day5\\PetImages\\Cat\\cat.10019.jpg\n",
      "C:\\DLNN\\Day5\\PetImages\\Cat\\cat.1002.jpg\n",
      "C:\\DLNN\\Day5\\PetImages\\Cat\\cat.10020.jpg\n",
      "C:\\DLNN\\Day5\\PetImages\\Cat\\cat.10021.jpg\n",
      "C:\\DLNN\\Day5\\PetImages\\Cat\\cat.10022.jpg\n",
      "C:\\DLNN\\Day5\\PetImages\\Cat\\cat.10023.jpg\n",
      "C:\\DLNN\\Day5\\PetImages\\Cat\\cat.10024.jpg\n",
      "C:\\DLNN\\Day5\\PetImages\\Cat\\cat.10025.jpg\n",
      "C:\\DLNN\\Day5\\PetImages\\Cat\\cat.10026.jpg\n",
      "C:\\DLNN\\Day5\\PetImages\\Cat\\cat.10027.jpg\n",
      "C:\\DLNN\\Day5\\PetImages\\Cat\\cat.10028.jpg\n",
      "C:\\DLNN\\Day5\\PetImages\\Cat\\cat.10029.jpg\n",
      "C:\\DLNN\\Day5\\PetImages\\Cat\\cat.1003.jpg\n",
      "C:\\DLNN\\Day5\\PetImages\\Cat\\cat.10030.jpg\n",
      "C:\\DLNN\\Day5\\PetImages\\Cat\\cat.10031.jpg\n",
      "C:\\DLNN\\Day5\\PetImages\\Cat\\cat.10032.jpg\n",
      "C:\\DLNN\\Day5\\PetImages\\Cat\\cat.10033.jpg\n",
      "C:\\DLNN\\Day5\\PetImages\\Cat\\cat.10034.jpg\n",
      "C:\\DLNN\\Day5\\PetImages\\Cat\\cat.10035.jpg\n",
      "C:\\DLNN\\Day5\\PetImages\\Cat\\cat.10036.jpg\n",
      "C:\\DLNN\\Day5\\PetImages\\Cat\\cat.10037.jpg\n",
      "C:\\DLNN\\Day5\\PetImages\\Cat\\cat.10038.jpg\n",
      "C:\\DLNN\\Day5\\PetImages\\Cat\\cat.10039.jpg\n",
      "C:\\DLNN\\Day5\\PetImages\\Cat\\cat.1004.jpg\n",
      "C:\\DLNN\\Day5\\PetImages\\Cat\\cat.10040.jpg\n",
      "C:\\DLNN\\Day5\\PetImages\\Cat\\cat.10041.jpg\n",
      "C:\\DLNN\\Day5\\PetImages\\Cat\\cat.10042.jpg\n",
      "C:\\DLNN\\Day5\\PetImages\\Cat\\cat.10043.jpg\n",
      "C:\\DLNN\\Day5\\PetImages\\Cat\\cat.10044.jpg\n",
      "C:\\DLNN\\Day5\\PetImages\\Cat\\cat.10045.jpg\n",
      "C:\\DLNN\\Day5\\PetImages\\Cat\\cat.10046.jpg\n",
      "C:\\DLNN\\Day5\\PetImages\\Cat\\cat.10047.jpg\n",
      "C:\\DLNN\\Day5\\PetImages\\Cat\\cat.10048.jpg\n",
      "C:\\DLNN\\Day5\\PetImages\\Cat\\cat.10049.jpg\n",
      "C:\\DLNN\\Day5\\PetImages\\Cat\\cat.1005.jpg\n",
      "C:\\DLNN\\Day5\\PetImages\\Cat\\cat.10050.jpg\n",
      "C:\\DLNN\\Day5\\PetImages\\Cat\\cat.10051.jpg\n",
      "C:\\DLNN\\Day5\\PetImages\\Cat\\cat.10052.jpg\n",
      "C:\\DLNN\\Day5\\PetImages\\Cat\\cat.10053.jpg\n",
      "C:\\DLNN\\Day5\\PetImages\\Cat\\cat.10054.jpg\n",
      "C:\\DLNN\\Day5\\PetImages\\Cat\\cat.10055.jpg\n",
      "C:\\DLNN\\Day5\\PetImages\\Cat\\cat.10056.jpg\n",
      "C:\\DLNN\\Day5\\PetImages\\Cat\\cat.10057.jpg\n",
      "C:\\DLNN\\Day5\\PetImages\\Cat\\cat.10058.jpg\n",
      "C:\\DLNN\\Day5\\PetImages\\Cat\\cat.10059.jpg\n",
      "C:\\DLNN\\Day5\\PetImages\\Cat\\cat.1006.jpg\n",
      "C:\\DLNN\\Day5\\PetImages\\Cat\\cat.10060.jpg\n",
      "C:\\DLNN\\Day5\\PetImages\\Cat\\cat.10061.jpg\n",
      "C:\\DLNN\\Day5\\PetImages\\Cat\\cat.10062.jpg\n",
      "C:\\DLNN\\Day5\\PetImages\\Cat\\cat.10063.jpg\n",
      "C:\\DLNN\\Day5\\PetImages\\Cat\\cat.10064.jpg\n",
      "C:\\DLNN\\Day5\\PetImages\\Cat\\cat.10065.jpg\n",
      "C:\\DLNN\\Day5\\PetImages\\Cat\\cat.10066.jpg\n",
      "C:\\DLNN\\Day5\\PetImages\\Cat\\cat.10067.jpg\n",
      "C:\\DLNN\\Day5\\PetImages\\Cat\\cat.10068.jpg\n",
      "C:\\DLNN\\Day5\\PetImages\\Cat\\cat.10069.jpg\n",
      "C:\\DLNN\\Day5\\PetImages\\Cat\\cat.1007.jpg\n",
      "C:\\DLNN\\Day5\\PetImages\\Cat\\cat.10070.jpg\n",
      "C:\\DLNN\\Day5\\PetImages\\Cat\\cat.10071.jpg\n",
      "C:\\DLNN\\Day5\\PetImages\\Cat\\cat.10072.jpg\n",
      "C:\\DLNN\\Day5\\PetImages\\Cat\\cat.10073.jpg\n",
      "C:\\DLNN\\Day5\\PetImages\\Cat\\cat.10074.jpg\n",
      "C:\\DLNN\\Day5\\PetImages\\Cat\\cat.10075.jpg\n",
      "C:\\DLNN\\Day5\\PetImages\\Cat\\cat.10076.jpg\n",
      "C:\\DLNN\\Day5\\PetImages\\Cat\\cat.10077.jpg\n",
      "C:\\DLNN\\Day5\\PetImages\\Cat\\cat.10078.jpg\n",
      "C:\\DLNN\\Day5\\PetImages\\Cat\\cat.10079.jpg\n",
      "C:\\DLNN\\Day5\\PetImages\\Cat\\cat.1008.jpg\n",
      "C:\\DLNN\\Day5\\PetImages\\Cat\\cat.10080.jpg\n",
      "C:\\DLNN\\Day5\\PetImages\\Cat\\cat.10081.jpg\n",
      "C:\\DLNN\\Day5\\PetImages\\Cat\\cat.10082.jpg\n",
      "C:\\DLNN\\Day5\\PetImages\\Cat\\cat.10083.jpg\n",
      "C:\\DLNN\\Day5\\PetImages\\Cat\\cat.10084.jpg\n",
      "C:\\DLNN\\Day5\\PetImages\\Cat\\cat.10085.jpg\n",
      "C:\\DLNN\\Day5\\PetImages\\Cat\\cat.10086.jpg\n",
      "C:\\DLNN\\Day5\\PetImages\\Cat\\cat.10087.jpg\n",
      "C:\\DLNN\\Day5\\PetImages\\Cat\\cat.10088.jpg\n",
      "C:\\DLNN\\Day5\\PetImages\\Cat\\cat.10089.jpg\n",
      "C:\\DLNN\\Day5\\PetImages\\Cat\\cat.1009.jpg\n",
      "C:\\DLNN\\Day5\\PetImages\\Cat\\cat.10090.jpg\n",
      "C:\\DLNN\\Day5\\PetImages\\Cat\\cat.10091.jpg\n",
      "C:\\DLNN\\Day5\\PetImages\\Cat\\cat.10092.jpg\n",
      "C:\\DLNN\\Day5\\PetImages\\Cat\\cat.10093.jpg\n",
      "C:\\DLNN\\Day5\\PetImages\\Cat\\cat.10094.jpg\n",
      "C:\\DLNN\\Day5\\PetImages\\Cat\\cat.10095.jpg\n",
      "C:\\DLNN\\Day5\\PetImages\\Cat\\cat.10096.jpg\n",
      "C:\\DLNN\\Day5\\PetImages\\Cat\\cat.10097.jpg\n",
      "C:\\DLNN\\Day5\\PetImages\\Cat\\cat.10098.jpg\n",
      "C:\\DLNN\\Day5\\PetImages\\Cat\\cat.10099.jpg\n",
      "C:\\DLNN\\Day5\\PetImages\\Cat\\cat.101.jpg\n",
      "C:\\DLNN\\Day5\\PetImages\\Cat\\cat.1010.jpg\n",
      "C:\\DLNN\\Day5\\PetImages\\Cat\\cat.10100.jpg\n",
      "C:\\DLNN\\Day5\\PetImages\\Cat\\cat.10101.jpg\n",
      "C:\\DLNN\\Day5\\PetImages\\Cat\\cat.10102.jpg\n",
      "C:\\DLNN\\Day5\\PetImages\\Cat\\cat.10103.jpg\n",
      "C:\\DLNN\\Day5\\PetImages\\Cat\\cat.10104.jpg\n",
      "C:\\DLNN\\Day5\\PetImages\\Cat\\cat.10105.jpg\n",
      "C:\\DLNN\\Day5\\PetImages\\Cat\\cat.10106.jpg\n",
      "C:\\DLNN\\Day5\\PetImages\\Cat\\cat.10107.jpg\n",
      "C:\\DLNN\\Day5\\PetImages\\Cat\\cat.10108.jpg\n",
      "C:\\DLNN\\Day5\\PetImages\\Cat\\cat.10109.jpg\n",
      "C:\\DLNN\\Day5\\PetImages\\Cat\\cat.1011.jpg\n",
      "C:\\DLNN\\Day5\\PetImages\\Cat\\cat.10110.jpg\n",
      "C:\\DLNN\\Day5\\PetImages\\Cat\\cat.10111.jpg\n",
      "C:\\DLNN\\Day5\\PetImages\\Cat\\cat.10112.jpg\n",
      "C:\\DLNN\\Day5\\PetImages\\Cat\\cat.10113.jpg\n",
      "C:\\DLNN\\Day5\\PetImages\\Cat\\cat.10114.jpg\n",
      "C:\\DLNN\\Day5\\PetImages\\Cat\\cat.10115.jpg\n",
      "C:\\DLNN\\Day5\\PetImages\\Cat\\cat.10116.jpg\n",
      "C:\\DLNN\\Day5\\PetImages\\Cat\\cat.10117.jpg\n",
      "C:\\DLNN\\Day5\\PetImages\\Cat\\cat.10118.jpg\n",
      "C:\\DLNN\\Day5\\PetImages\\Cat\\cat.10119.jpg\n",
      "C:\\DLNN\\Day5\\PetImages\\Cat\\cat.1012.jpg\n",
      "C:\\DLNN\\Day5\\PetImages\\Cat\\cat.10120.jpg\n",
      "C:\\DLNN\\Day5\\PetImages\\Cat\\cat.10121.jpg\n",
      "C:\\DLNN\\Day5\\PetImages\\Cat\\cat.10122.jpg\n",
      "C:\\DLNN\\Day5\\PetImages\\Cat\\cat.10123.jpg\n",
      "C:\\DLNN\\Day5\\PetImages\\Cat\\cat.10124.jpg\n",
      "C:\\DLNN\\Day5\\PetImages\\Cat\\cat.10125.jpg\n",
      "C:\\DLNN\\Day5\\PetImages\\Cat\\cat.10126.jpg\n",
      "C:\\DLNN\\Day5\\PetImages\\Cat\\cat.10127.jpg\n",
      "C:\\DLNN\\Day5\\PetImages\\Cat\\cat.10128.jpg\n",
      "C:\\DLNN\\Day5\\PetImages\\Cat\\cat.10129.jpg\n",
      "C:\\DLNN\\Day5\\PetImages\\Cat\\cat.1013.jpg\n",
      "C:\\DLNN\\Day5\\PetImages\\Cat\\cat.10130.jpg\n",
      "C:\\DLNN\\Day5\\PetImages\\Cat\\cat.10131.jpg\n",
      "C:\\DLNN\\Day5\\PetImages\\Cat\\cat.10132.jpg\n",
      "C:\\DLNN\\Day5\\PetImages\\Cat\\cat.10133.jpg\n",
      "C:\\DLNN\\Day5\\PetImages\\Cat\\cat.10134.jpg\n",
      "C:\\DLNN\\Day5\\PetImages\\Cat\\cat.10135.jpg\n",
      "C:\\DLNN\\Day5\\PetImages\\Cat\\cat.10136.jpg\n",
      "C:\\DLNN\\Day5\\PetImages\\Cat\\cat.10137.jpg\n",
      "C:\\DLNN\\Day5\\PetImages\\Cat\\cat.10138.jpg\n",
      "C:\\DLNN\\Day5\\PetImages\\Cat\\cat.10139.jpg\n",
      "C:\\DLNN\\Day5\\PetImages\\Cat\\cat.1014.jpg\n",
      "C:\\DLNN\\Day5\\PetImages\\Cat\\cat.10140.jpg\n",
      "C:\\DLNN\\Day5\\PetImages\\Cat\\cat.10141.jpg\n",
      "C:\\DLNN\\Day5\\PetImages\\Cat\\cat.10142.jpg\n",
      "C:\\DLNN\\Day5\\PetImages\\Cat\\cat.10143.jpg\n",
      "C:\\DLNN\\Day5\\PetImages\\Cat\\cat.10144.jpg\n",
      "C:\\DLNN\\Day5\\PetImages\\Cat\\cat.10145.jpg\n",
      "C:\\DLNN\\Day5\\PetImages\\Cat\\cat.10146.jpg\n",
      "C:\\DLNN\\Day5\\PetImages\\Cat\\cat.10147.jpg\n",
      "C:\\DLNN\\Day5\\PetImages\\Cat\\cat.10148.jpg\n",
      "C:\\DLNN\\Day5\\PetImages\\Cat\\cat.10149.jpg\n",
      "C:\\DLNN\\Day5\\PetImages\\Cat\\cat.1015.jpg\n",
      "C:\\DLNN\\Day5\\PetImages\\Cat\\cat.10150.jpg\n",
      "C:\\DLNN\\Day5\\PetImages\\Cat\\cat.10151.jpg\n",
      "C:\\DLNN\\Day5\\PetImages\\Cat\\cat.10152.jpg\n",
      "C:\\DLNN\\Day5\\PetImages\\Cat\\cat.10153.jpg\n",
      "C:\\DLNN\\Day5\\PetImages\\Cat\\cat.10154.jpg\n",
      "C:\\DLNN\\Day5\\PetImages\\Cat\\cat.10155.jpg\n",
      "C:\\DLNN\\Day5\\PetImages\\Cat\\cat.10156.jpg\n",
      "C:\\DLNN\\Day5\\PetImages\\Cat\\cat.10157.jpg\n",
      "C:\\DLNN\\Day5\\PetImages\\Cat\\cat.10158.jpg\n",
      "C:\\DLNN\\Day5\\PetImages\\Cat\\cat.10159.jpg\n",
      "C:\\DLNN\\Day5\\PetImages\\Cat\\cat.1016.jpg\n",
      "C:\\DLNN\\Day5\\PetImages\\Cat\\cat.10160.jpg\n",
      "C:\\DLNN\\Day5\\PetImages\\Cat\\cat.10161.jpg\n",
      "C:\\DLNN\\Day5\\PetImages\\Cat\\cat.10162.jpg\n",
      "C:\\DLNN\\Day5\\PetImages\\Cat\\cat.10163.jpg\n",
      "C:\\DLNN\\Day5\\PetImages\\Cat\\cat.10164.jpg\n",
      "C:\\DLNN\\Day5\\PetImages\\Cat\\cat.10165.jpg\n",
      "C:\\DLNN\\Day5\\PetImages\\Cat\\cat.10166.jpg\n",
      "C:\\DLNN\\Day5\\PetImages\\Cat\\cat.10167.jpg\n",
      "C:\\DLNN\\Day5\\PetImages\\Cat\\cat.10168.jpg\n",
      "C:\\DLNN\\Day5\\PetImages\\Cat\\cat.10169.jpg\n",
      "C:\\DLNN\\Day5\\PetImages\\Cat\\cat.1017.jpg\n",
      "C:\\DLNN\\Day5\\PetImages\\Cat\\cat.10170.jpg\n",
      "C:\\DLNN\\Day5\\PetImages\\Cat\\cat.10171.jpg\n",
      "C:\\DLNN\\Day5\\PetImages\\Cat\\cat.10172.jpg\n",
      "C:\\DLNN\\Day5\\PetImages\\Cat\\cat.10173.jpg\n",
      "C:\\DLNN\\Day5\\PetImages\\Cat\\cat.10174.jpg\n",
      "C:\\DLNN\\Day5\\PetImages\\Cat\\cat.10175.jpg\n",
      "C:\\DLNN\\Day5\\PetImages\\Cat\\cat.10176.jpg\n",
      "C:\\DLNN\\Day5\\PetImages\\Cat\\cat.10177.jpg\n",
      "C:\\DLNN\\Day5\\PetImages\\Cat\\cat.10178.jpg\n",
      "C:\\DLNN\\Day5\\PetImages\\Cat\\cat.10179.jpg\n",
      "C:\\DLNN\\Day5\\PetImages\\Cat\\cat.1018.jpg\n",
      "C:\\DLNN\\Day5\\PetImages\\Cat\\cat.10180.jpg\n"
     ]
    },
    {
     "name": "stdout",
     "output_type": "stream",
     "text": [
      "C:\\DLNN\\Day5\\PetImages\\Cat\\cat.10181.jpg\n",
      "C:\\DLNN\\Day5\\PetImages\\Cat\\cat.10182.jpg\n",
      "C:\\DLNN\\Day5\\PetImages\\Cat\\cat.10183.jpg\n",
      "C:\\DLNN\\Day5\\PetImages\\Cat\\cat.10184.jpg\n",
      "C:\\DLNN\\Day5\\PetImages\\Cat\\cat.10185.jpg\n",
      "C:\\DLNN\\Day5\\PetImages\\Cat\\cat.10186.jpg\n",
      "C:\\DLNN\\Day5\\PetImages\\Cat\\cat.10187.jpg\n",
      "C:\\DLNN\\Day5\\PetImages\\Cat\\cat.10188.jpg\n",
      "C:\\DLNN\\Day5\\PetImages\\Cat\\cat.10189.jpg\n",
      "C:\\DLNN\\Day5\\PetImages\\Cat\\cat.1019.jpg\n",
      "C:\\DLNN\\Day5\\PetImages\\Cat\\cat.10190.jpg\n",
      "C:\\DLNN\\Day5\\PetImages\\Cat\\cat.10191.jpg\n",
      "C:\\DLNN\\Day5\\PetImages\\Cat\\cat.10192.jpg\n",
      "C:\\DLNN\\Day5\\PetImages\\Cat\\cat.10193.jpg\n",
      "C:\\DLNN\\Day5\\PetImages\\Cat\\cat.10194.jpg\n",
      "C:\\DLNN\\Day5\\PetImages\\Cat\\cat.10195.jpg\n",
      "C:\\DLNN\\Day5\\PetImages\\Cat\\cat.10196.jpg\n",
      "C:\\DLNN\\Day5\\PetImages\\Cat\\cat.10197.jpg\n",
      "C:\\DLNN\\Day5\\PetImages\\Cat\\cat.10198.jpg\n",
      "C:\\DLNN\\Day5\\PetImages\\Cat\\cat.10199.jpg\n",
      "C:\\DLNN\\Day5\\PetImages\\Cat\\cat.102.jpg\n",
      "C:\\DLNN\\Day5\\PetImages\\Cat\\cat.1020.jpg\n",
      "C:\\DLNN\\Day5\\PetImages\\Cat\\cat.10200.jpg\n",
      "C:\\DLNN\\Day5\\PetImages\\Cat\\cat.10201.jpg\n",
      "C:\\DLNN\\Day5\\PetImages\\Cat\\cat.10202.jpg\n",
      "C:\\DLNN\\Day5\\PetImages\\Cat\\cat.10203.jpg\n",
      "C:\\DLNN\\Day5\\PetImages\\Cat\\cat.10204.jpg\n",
      "C:\\DLNN\\Day5\\PetImages\\Cat\\cat.10205.jpg\n",
      "C:\\DLNN\\Day5\\PetImages\\Cat\\cat.10206.jpg\n",
      "C:\\DLNN\\Day5\\PetImages\\Cat\\cat.10207.jpg\n",
      "C:\\DLNN\\Day5\\PetImages\\Cat\\cat.10208.jpg\n",
      "C:\\DLNN\\Day5\\PetImages\\Cat\\cat.10209.jpg\n",
      "C:\\DLNN\\Day5\\PetImages\\Cat\\cat.1021.jpg\n",
      "C:\\DLNN\\Day5\\PetImages\\Cat\\cat.10210.jpg\n",
      "C:\\DLNN\\Day5\\PetImages\\Cat\\cat.10211.jpg\n",
      "C:\\DLNN\\Day5\\PetImages\\Cat\\cat.10212.jpg\n",
      "C:\\DLNN\\Day5\\PetImages\\Cat\\cat.10213.jpg\n",
      "C:\\DLNN\\Day5\\PetImages\\Cat\\cat.10214.jpg\n",
      "C:\\DLNN\\Day5\\PetImages\\Cat\\cat.10215.jpg\n",
      "C:\\DLNN\\Day5\\PetImages\\Cat\\cat.10216.jpg\n",
      "C:\\DLNN\\Day5\\PetImages\\Cat\\cat.10217.jpg\n",
      "C:\\DLNN\\Day5\\PetImages\\Cat\\cat.10218.jpg\n",
      "C:\\DLNN\\Day5\\PetImages\\Cat\\cat.10219.jpg\n",
      "C:\\DLNN\\Day5\\PetImages\\Cat\\cat.1022.jpg\n",
      "C:\\DLNN\\Day5\\PetImages\\Cat\\cat.10220.jpg\n",
      "C:\\DLNN\\Day5\\PetImages\\Cat\\cat.10221.jpg\n",
      "C:\\DLNN\\Day5\\PetImages\\Cat\\cat.10222.jpg\n",
      "C:\\DLNN\\Day5\\PetImages\\Cat\\cat.10223.jpg\n",
      "C:\\DLNN\\Day5\\PetImages\\Cat\\cat.10224.jpg\n",
      "C:\\DLNN\\Day5\\PetImages\\Cat\\cat.10225.jpg\n",
      "C:\\DLNN\\Day5\\PetImages\\Cat\\cat.10226.jpg\n",
      "C:\\DLNN\\Day5\\PetImages\\Cat\\cat.10227.jpg\n",
      "C:\\DLNN\\Day5\\PetImages\\Cat\\cat.10228.jpg\n",
      "C:\\DLNN\\Day5\\PetImages\\Cat\\cat.10229.jpg\n",
      "C:\\DLNN\\Day5\\PetImages\\Cat\\cat.1023.jpg\n",
      "C:\\DLNN\\Day5\\PetImages\\Cat\\cat.10230.jpg\n",
      "C:\\DLNN\\Day5\\PetImages\\Cat\\cat.10231.jpg\n",
      "C:\\DLNN\\Day5\\PetImages\\Cat\\cat.10232.jpg\n"
     ]
    },
    {
     "ename": "KeyboardInterrupt",
     "evalue": "",
     "output_type": "error",
     "traceback": [
      "\u001b[1;31m---------------------------------------------------------------------------\u001b[0m",
      "\u001b[1;31mKeyboardInterrupt\u001b[0m                         Traceback (most recent call last)",
      "\u001b[1;32m<ipython-input-76-13c230c79cc0>\u001b[0m in \u001b[0;36m<module>\u001b[1;34m\u001b[0m\n\u001b[0;32m     10\u001b[0m     \u001b[1;32mfor\u001b[0m \u001b[0mimg_name\u001b[0m \u001b[1;32min\u001b[0m \u001b[0mimg_names\u001b[0m\u001b[1;33m:\u001b[0m\u001b[1;33m\u001b[0m\u001b[1;33m\u001b[0m\u001b[0m\n\u001b[0;32m     11\u001b[0m         \u001b[0mimg_path\u001b[0m\u001b[1;33m=\u001b[0m\u001b[0mos\u001b[0m\u001b[1;33m.\u001b[0m\u001b[0mpath\u001b[0m\u001b[1;33m.\u001b[0m\u001b[0mjoin\u001b[0m\u001b[1;33m(\u001b[0m\u001b[0mfolder_path\u001b[0m\u001b[1;33m,\u001b[0m\u001b[0mimg_name\u001b[0m\u001b[1;33m)\u001b[0m\u001b[1;33m\u001b[0m\u001b[1;33m\u001b[0m\u001b[0m\n\u001b[1;32m---> 12\u001b[1;33m         \u001b[0mimg\u001b[0m\u001b[1;33m=\u001b[0m\u001b[0mcv2\u001b[0m\u001b[1;33m.\u001b[0m\u001b[0mimread\u001b[0m\u001b[1;33m(\u001b[0m\u001b[0mimg_path\u001b[0m\u001b[1;33m)\u001b[0m\u001b[1;33m\u001b[0m\u001b[1;33m\u001b[0m\u001b[0m\n\u001b[0m\u001b[0;32m     13\u001b[0m         \u001b[1;31m#cv2.imshow('LIVE',img)\u001b[0m\u001b[1;33m\u001b[0m\u001b[1;33m\u001b[0m\u001b[1;33m\u001b[0m\u001b[0m\n\u001b[0;32m     14\u001b[0m         \u001b[1;31m#cv2.waitKey(100)\u001b[0m\u001b[1;33m\u001b[0m\u001b[1;33m\u001b[0m\u001b[1;33m\u001b[0m\u001b[0m\n",
      "\u001b[1;31mKeyboardInterrupt\u001b[0m: "
     ]
    }
   ],
   "source": [
    "img_size=50\n",
    "\n",
    "data=[]\n",
    "target=[]\n",
    "\n",
    "for category in categories:\n",
    "    folder_path=os.path.join(data_path,category)\n",
    "    img_names=os.listdir(folder_path)\n",
    "        \n",
    "    for img_name in img_names:\n",
    "        img_path=os.path.join(folder_path,img_name)\n",
    "        img=cv2.imread(img_path)\n",
    "        #cv2.imshow('LIVE',img)\n",
    "        #cv2.waitKey(100)\n",
    "        try:\n",
    "            gray=cv2.cvtColor(img,cv2.COLOR_BGR2GRAY)\n",
    "            #Coverting the image into gray scale\n",
    "            resized=cv2.resize(gray,(img_size,img_size))\n",
    "            #resizing the gray scale into 50x50, since we need a fixed common size for all the images in the dataset\n",
    "            data.append(resized)\n",
    "            target.append(label_dict[category])\n",
    "            print(img_path)\n",
    "            \n",
    "        except Exception as e:\n",
    "            print(e)\n",
    "            #if any exception rasied, the exception will be printed here. And pass to the next image"
   ]
  },
  {
   "cell_type": "markdown",
   "metadata": {},
   "source": [
    "### Exception Handling\n",
    "\n",
    "In the previous code segment, a try and except blocks are included in order to handle any raised exception while reading the images. These exceptions may raised due to few possible reasons\n",
    "\n",
    "1. Files which are not a images (jpg,jpeg,png etc.)\n",
    "2. Courrupted files"
   ]
  },
  {
   "cell_type": "code",
   "execution_count": 8,
   "metadata": {},
   "outputs": [],
   "source": [
    "import numpy as np\n",
    "\n",
    "data=np.array(data)\n",
    "target=np.array(target)"
   ]
  },
  {
   "cell_type": "code",
   "execution_count": 41,
   "metadata": {},
   "outputs": [
    {
     "name": "stdout",
     "output_type": "stream",
     "text": [
      "(25000, 50, 50) (25000,)\n"
     ]
    }
   ],
   "source": [
    "print(data.shape,target.shape)\n",
    "cv2.imshow('live',img[:10])"
   ]
  },
  {
   "cell_type": "code",
   "execution_count": 43,
   "metadata": {},
   "outputs": [
    {
     "data": {
      "text/plain": [
       "1"
      ]
     },
     "execution_count": 43,
     "metadata": {},
     "output_type": "execute_result"
    },
    {
     "data": {
      "image/png": "[encoded data removed]",
      "text/plain": [
       "<Figure size 432x288 with 1 Axes>"
      ]
     },
     "metadata": {
      "needs_background": "light"
     },
     "output_type": "display_data"
    }
   ],
   "source": [
    "from matplotlib import pyplot as plt\n",
    "\n",
    "plt.imshow(data[24901],cmap='gray')\n",
    "\n",
    "target[24901]"
   ]
  },
  {
   "cell_type": "markdown",
   "metadata": {},
   "source": [
    "Checking the size of the dataset, without few corrupted images the size shoulde be around 24950, the original dataset size was 25000."
   ]
  },
  {
   "cell_type": "markdown",
   "metadata": {},
   "source": [
    "Note that the dataset has 24946 rows and 2 columns. The first and second columns contain the resized image and the categorical label respectively. Above code segment split the dataset into data(images) and target(categorical labels)"
   ]
  },
  {
   "cell_type": "code",
   "execution_count": 11,
   "metadata": {},
   "outputs": [],
   "source": [
    "data_new=data/255.0\n",
    "data_new=np.reshape(data_new,(data_new.shape[0],img_size,img_size,1))\n",
    "\n",
    "from keras.utils import np_utils\n",
    "\n",
    "target_new=np_utils.to_categorical(target)"
   ]
  },
  {
   "cell_type": "markdown",
   "metadata": {},
   "source": [
    "### data and target preprocessing\n",
    "\n",
    "The above code segment perform some necessary proprocessing task for data and target\n",
    "\n",
    "1.```data=np.array(data)/255.0``` - Dividing all the pixels in all the images by 255 in order to convert them to the range 0-1.\n",
    "This is to reduce the complexity in training the Neural Network.\n",
    "\n",
    "2.```data=np.reshape(data,(data.shape[0],img_size,img_size,1))``` - The CNNs require 4 dimensional input, therefore we add the  dimension 1, this is to represent grayscale image, for color images you may have to use 3.\n",
    "\n",
    "3.```new_target=np_utils.to_categorical(target)``` - Converting the labels into categorical representation."
   ]
  },
  {
   "cell_type": "code",
   "execution_count": null,
   "metadata": {},
   "outputs": [],
   "source": [
    "np.save('data',data_new)\n",
    "np.save('target',target_new)\n",
    "\n"
   ]
  },
  {
   "cell_type": "markdown",
   "metadata": {},
   "source": [
    "saving data and target as numpy array files"
   ]
  },
  {
   "cell_type": "code",
   "execution_count": 16,
   "metadata": {},
   "outputs": [
    {
     "data": {
      "text/plain": [
       "(25000, 2)"
      ]
     },
     "execution_count": 16,
     "metadata": {},
     "output_type": "execute_result"
    }
   ],
   "source": [
    "target_new.shape"
   ]
  },
  {
   "cell_type": "code",
   "execution_count": 39,
   "metadata": {},
   "outputs": [
    {
     "data": {
      "text/plain": [
       "1"
      ]
     },
     "execution_count": 39,
     "metadata": {},
     "output_type": "execute_result"
    },
    {
     "data": {
      "image/png": "[encoded data removed]",
      "text/plain": [
       "<Figure size 432x288 with 1 Axes>"
      ]
     },
     "metadata": {
      "needs_background": "light"
     },
     "output_type": "display_data"
    }
   ],
   "source": []
  },
  {
   "cell_type": "code",
   "execution_count": null,
   "metadata": {},
   "outputs": [],
   "source": []
  }
 ],
 "metadata": {
  "kernelspec": {
   "display_name": "Python 3",
   "language": "python",
   "name": "python3"
  },
  "language_info": {
   "codemirror_mode": {
    "name": "ipython",
    "version": 3
   },
   "file_extension": ".py",
   "mimetype": "text/x-python",
   "name": "python",
   "nbconvert_exporter": "python",
   "pygments_lexer": "ipython3",
   "version": "3.8.5"
  }
 },
 "nbformat": 4,
 "nbformat_minor": 2
}
